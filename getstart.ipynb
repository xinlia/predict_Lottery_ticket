{
 "cells": [
  {
   "cell_type": "code",
   "execution_count": null,
   "metadata": {},
   "outputs": [],
   "source": [
    "# pip install -r requirements.txt"
   ]
  },
  {
   "cell_type": "code",
   "execution_count": 9,
   "metadata": {},
   "outputs": [
    {
     "name": "stderr",
     "output_type": "stream",
     "text": [
      "c:\\Users\\vickenlee\\AppData\\Local\\Programs\\Python\\Python39\\lib\\site-packages\\urllib3\\connectionpool.py:1056: InsecureRequestWarning: Unverified HTTPS request is being made to host '127.0.0.1'. Adding certificate verification is strongly advised. See: https://urllib3.readthedocs.io/en/1.26.x/advanced-usage.html#ssl-warnings\n",
      "  warnings.warn(\n",
      "\u001b[32m2023-06-26 15:08:16.470\u001b[0m | \u001b[1mINFO    \u001b[0m | \u001b[36m__main__\u001b[0m:\u001b[36mrun\u001b[0m:\u001b[36m86\u001b[0m - \u001b[1m【双色球】最新一期期号：23072\u001b[0m\n",
      "\u001b[32m2023-06-26 15:08:16.470\u001b[0m | \u001b[1mINFO    \u001b[0m | \u001b[36m__main__\u001b[0m:\u001b[36mrun\u001b[0m:\u001b[36m87\u001b[0m - \u001b[1m正在获取【双色球】数据。。。\u001b[0m\n",
      "c:\\Users\\vickenlee\\AppData\\Local\\Programs\\Python\\Python39\\lib\\site-packages\\urllib3\\connectionpool.py:1056: InsecureRequestWarning: Unverified HTTPS request is being made to host '127.0.0.1'. Adding certificate verification is strongly advised. See: https://urllib3.readthedocs.io/en/1.26.x/advanced-usage.html#ssl-warnings\n",
      "  warnings.warn(\n",
      "\u001b[32m2023-06-26 15:08:18.201\u001b[0m | \u001b[1mINFO    \u001b[0m | \u001b[36m__main__\u001b[0m:\u001b[36mrun\u001b[0m:\u001b[36m92\u001b[0m - \u001b[1m【双色球】数据准备就绪，共3016期, 下一步可训练模型...\u001b[0m\n"
     ]
    }
   ],
   "source": [
    "%run get_data.py  --name ssq"
   ]
  },
  {
   "cell_type": "code",
   "execution_count": 10,
   "metadata": {},
   "outputs": [
    {
     "name": "stderr",
     "output_type": "stream",
     "text": [
      "c:\\Users\\vickenlee\\AppData\\Local\\Programs\\Python\\Python39\\lib\\site-packages\\tensorflow_addons\\utils\\tfa_eol_msg.py:23: UserWarning: \n",
      "\n",
      "TensorFlow Addons (TFA) has ended development and introduction of new features.\n",
      "TFA has entered a minimal maintenance and release mode until a planned end of life in May 2024.\n",
      "Please modify downstream libraries to take dependencies from other repositories in our TensorFlow community (e.g. Keras, Keras-CV, and Keras-NLP). \n",
      "\n",
      "For more information see: https://github.com/tensorflow/addons/issues/2807 \n",
      "\n",
      "  warnings.warn(\n",
      "\u001b[32m2023-06-26 15:08:28.687\u001b[0m | \u001b[1mINFO    \u001b[0m | \u001b[36m__main__\u001b[0m:\u001b[36mrun\u001b[0m:\u001b[36m286\u001b[0m - \u001b[1m正在创建【双色球】训练集和测试集...\u001b[0m\n",
      "\u001b[32m2023-06-26 15:08:28.697\u001b[0m | \u001b[1mINFO    \u001b[0m | \u001b[36m__main__\u001b[0m:\u001b[36mcreate_train_test_data\u001b[0m:\u001b[36m62\u001b[0m - \u001b[1mread data from path: data/ssq/data.csv\u001b[0m\n",
      "\u001b[32m2023-06-26 15:08:28.698\u001b[0m | \u001b[1mINFO    \u001b[0m | \u001b[36m__main__\u001b[0m:\u001b[36mcreate_data\u001b[0m:\u001b[36m35\u001b[0m - \u001b[1m训练数据已加载! \u001b[0m\n",
      "\u001b[32m2023-06-26 15:08:28.699\u001b[0m | \u001b[1mINFO    \u001b[0m | \u001b[36m__main__\u001b[0m:\u001b[36mcreate_data\u001b[0m:\u001b[36m38\u001b[0m - \u001b[1m训练集数据维度: (2111, 7)\u001b[0m\n",
      "\u001b[32m2023-06-26 15:08:28.705\u001b[0m | \u001b[1mINFO    \u001b[0m | \u001b[36m__main__\u001b[0m:\u001b[36mcreate_data\u001b[0m:\u001b[36m35\u001b[0m - \u001b[1m训练数据已加载! \u001b[0m\n",
      "\u001b[32m2023-06-26 15:08:28.706\u001b[0m | \u001b[1mINFO    \u001b[0m | \u001b[36m__main__\u001b[0m:\u001b[36mcreate_data\u001b[0m:\u001b[36m38\u001b[0m - \u001b[1m训练集数据维度: (905, 7)\u001b[0m\n",
      "\u001b[32m2023-06-26 15:08:28.708\u001b[0m | \u001b[1mINFO    \u001b[0m | \u001b[36m__main__\u001b[0m:\u001b[36mcreate_train_test_data\u001b[0m:\u001b[36m65\u001b[0m - \u001b[1mtrain_data sample rate = 0.7, test_data sample rate = 0.3\u001b[0m\n",
      "\u001b[32m2023-06-26 15:08:28.709\u001b[0m | \u001b[1mINFO    \u001b[0m | \u001b[36m__main__\u001b[0m:\u001b[36mrun\u001b[0m:\u001b[36m290\u001b[0m - \u001b[1m开始训练【双色球】红球模型...\u001b[0m\n",
      "\u001b[32m2023-06-26 15:08:28.709\u001b[0m | \u001b[1mINFO    \u001b[0m | \u001b[36m__main__\u001b[0m:\u001b[36mtrain_with_eval_red_ball_model\u001b[0m:\u001b[36m76\u001b[0m - \u001b[1m训练特征数据维度: (2107, 3, 6)\u001b[0m\n",
      "\u001b[32m2023-06-26 15:08:28.710\u001b[0m | \u001b[1mINFO    \u001b[0m | \u001b[36m__main__\u001b[0m:\u001b[36mtrain_with_eval_red_ball_model\u001b[0m:\u001b[36m77\u001b[0m - \u001b[1m训练标签数据维度: (2107, 6)\u001b[0m\n",
      "\u001b[32m2023-06-26 15:08:28.711\u001b[0m | \u001b[1mINFO    \u001b[0m | \u001b[36m__main__\u001b[0m:\u001b[36mtrain_with_eval_red_ball_model\u001b[0m:\u001b[36m82\u001b[0m - \u001b[1m测试特征数据维度: (901, 3, 6)\u001b[0m\n",
      "\u001b[32m2023-06-26 15:08:28.711\u001b[0m | \u001b[1mINFO    \u001b[0m | \u001b[36m__main__\u001b[0m:\u001b[36mtrain_with_eval_red_ball_model\u001b[0m:\u001b[36m83\u001b[0m - \u001b[1m测试标签数据维度: (901, 6)\u001b[0m\n",
      "\u001b[32m2023-06-26 15:08:35.872\u001b[0m | \u001b[1mINFO    \u001b[0m | \u001b[36m__main__\u001b[0m:\u001b[36mtrain_with_eval_red_ball_model\u001b[0m:\u001b[36m119\u001b[0m - \u001b[1mepoch: 0, loss: 21.05706024169922, tag: [ 2  6 10 24 25 33], pred: [12 10 21 30 13 33]\u001b[0m\n",
      "\u001b[32m2023-06-26 15:08:36.189\u001b[0m | \u001b[1mINFO    \u001b[0m | \u001b[36m__main__\u001b[0m:\u001b[36mtrain_with_eval_red_ball_model\u001b[0m:\u001b[36m119\u001b[0m - \u001b[1mepoch: 0, loss: 19.244680404663086, tag: [ 6  8 17 19 24 28], pred: [ 8 23 27 30 33 33]\u001b[0m\n",
      "\u001b[32m2023-06-26 15:08:36.547\u001b[0m | \u001b[1mINFO    \u001b[0m | \u001b[36m__main__\u001b[0m:\u001b[36mtrain_with_eval_red_ball_model\u001b[0m:\u001b[36m119\u001b[0m - \u001b[1mepoch: 0, loss: 19.556943893432617, tag: [ 1  7 11 15 17 19], pred: [ 3  4  7 20 26 33]\u001b[0m\n",
      "\u001b[32m2023-06-26 15:08:36.895\u001b[0m | \u001b[1mINFO    \u001b[0m | \u001b[36m__main__\u001b[0m:\u001b[36mtrain_with_eval_red_ball_model\u001b[0m:\u001b[36m119\u001b[0m - \u001b[1mepoch: 0, loss: 17.415075302124023, tag: [ 1  9 15 16 19 21], pred: [ 3  4  7 14 24 28]\u001b[0m\n",
      "\u001b[32m2023-06-26 15:08:37.254\u001b[0m | \u001b[1mINFO    \u001b[0m | \u001b[36m__main__\u001b[0m:\u001b[36mtrain_with_eval_red_ball_model\u001b[0m:\u001b[36m119\u001b[0m - \u001b[1mepoch: 0, loss: 16.229938507080078, tag: [ 2  4 11 15 18 28], pred: [ 1  9 16 18 27 32]\u001b[0m\n",
      "\u001b[32m2023-06-26 15:08:37.621\u001b[0m | \u001b[1mINFO    \u001b[0m | \u001b[36m__main__\u001b[0m:\u001b[36mtrain_with_eval_red_ball_model\u001b[0m:\u001b[36m119\u001b[0m - \u001b[1mepoch: 0, loss: 16.62925148010254, tag: [ 3  4  5 10 16 32], pred: [ 1  9 16 18 27 32]\u001b[0m\n",
      "\u001b[32m2023-06-26 15:08:37.967\u001b[0m | \u001b[1mINFO    \u001b[0m | \u001b[36m__main__\u001b[0m:\u001b[36mtrain_with_eval_red_ball_model\u001b[0m:\u001b[36m119\u001b[0m - \u001b[1mepoch: 0, loss: 21.5398006439209, tag: [ 4  5  6  8 13 18], pred: [ 2  6 14 24 27 32]\u001b[0m\n",
      "\u001b[32m2023-06-26 15:08:38.310\u001b[0m | \u001b[1mINFO    \u001b[0m | \u001b[36m__main__\u001b[0m:\u001b[36mtrain_with_eval_red_ball_model\u001b[0m:\u001b[36m119\u001b[0m - \u001b[1mepoch: 0, loss: 17.684894561767578, tag: [11 13 16 21 22 23], pred: [ 1  6 11 19 25 32]\u001b[0m\n",
      "\u001b[32m2023-06-26 15:08:38.652\u001b[0m | \u001b[1mINFO    \u001b[0m | \u001b[36m__main__\u001b[0m:\u001b[36mtrain_with_eval_red_ball_model\u001b[0m:\u001b[36m119\u001b[0m - \u001b[1mepoch: 0, loss: 15.552592277526855, tag: [ 1  8 17 20 21 22], pred: [ 1  6 11 19 25 33]\u001b[0m\n",
      "\u001b[32m2023-06-26 15:08:39.000\u001b[0m | \u001b[1mINFO    \u001b[0m | \u001b[36m__main__\u001b[0m:\u001b[36mtrain_with_eval_red_ball_model\u001b[0m:\u001b[36m119\u001b[0m - \u001b[1mepoch: 0, loss: 15.178593635559082, tag: [ 2 10 16 22 24 28], pred: [ 1  6 14 20 25 31]\u001b[0m\n",
      "\u001b[32m2023-06-26 15:08:39.352\u001b[0m | \u001b[1mINFO    \u001b[0m | \u001b[36m__main__\u001b[0m:\u001b[36mtrain_with_eval_red_ball_model\u001b[0m:\u001b[36m119\u001b[0m - \u001b[1mepoch: 0, loss: 13.843818664550781, tag: [ 3 10 14 17 28 33], pred: [ 2  6  8 23 27 32]\u001b[0m\n",
      "\u001b[32m2023-06-26 15:08:39.708\u001b[0m | \u001b[1mINFO    \u001b[0m | \u001b[36m__main__\u001b[0m:\u001b[36mtrain_with_eval_red_ball_model\u001b[0m:\u001b[36m119\u001b[0m - \u001b[1mepoch: 0, loss: 14.2217378616333, tag: [ 5  6  8 20 22 30], pred: [ 2  6  8 23 27 32]\u001b[0m\n",
      "\u001b[32m2023-06-26 15:08:40.069\u001b[0m | \u001b[1mINFO    \u001b[0m | \u001b[36m__main__\u001b[0m:\u001b[36mtrain_with_eval_red_ball_model\u001b[0m:\u001b[36m119\u001b[0m - \u001b[1mepoch: 0, loss: 17.113004684448242, tag: [ 8 18 20 28 29 31], pred: [ 1  6 14 20 26 31]\u001b[0m\n",
      "\u001b[32m2023-06-26 15:08:40.437\u001b[0m | \u001b[1mINFO    \u001b[0m | \u001b[36m__main__\u001b[0m:\u001b[36mtrain_with_eval_red_ball_model\u001b[0m:\u001b[36m119\u001b[0m - \u001b[1mepoch: 0, loss: 12.493650436401367, tag: [ 1  6 11 17 28 33], pred: [ 1  9 16 20 25 32]\u001b[0m\n",
      "\u001b[32m2023-06-26 15:08:40.785\u001b[0m | \u001b[1mINFO    \u001b[0m | \u001b[36m__main__\u001b[0m:\u001b[36mtrain_with_eval_red_ball_model\u001b[0m:\u001b[36m119\u001b[0m - \u001b[1mepoch: 0, loss: 14.714807510375977, tag: [ 7  9 13 17 21 22], pred: [ 2  6 11 17 25 33]\u001b[0m\n",
      "\u001b[32m2023-06-26 15:08:41.156\u001b[0m | \u001b[1mINFO    \u001b[0m | \u001b[36m__main__\u001b[0m:\u001b[36mtrain_with_eval_red_ball_model\u001b[0m:\u001b[36m119\u001b[0m - \u001b[1mepoch: 0, loss: 15.868138313293457, tag: [ 9 14 23 24 26 29], pred: [ 4  6 11 19 25 33]\u001b[0m\n",
      "\u001b[32m2023-06-26 15:08:41.505\u001b[0m | \u001b[1mINFO    \u001b[0m | \u001b[36m__main__\u001b[0m:\u001b[36mtrain_with_eval_red_ball_model\u001b[0m:\u001b[36m119\u001b[0m - \u001b[1mepoch: 0, loss: 14.5672025680542, tag: [ 6 18 19 26 28 32], pred: [ 1  6 11 17 28 32]\u001b[0m\n",
      "\u001b[32m2023-06-26 15:08:41.854\u001b[0m | \u001b[1mINFO    \u001b[0m | \u001b[36m__main__\u001b[0m:\u001b[36mtrain_with_eval_red_ball_model\u001b[0m:\u001b[36m119\u001b[0m - \u001b[1mepoch: 0, loss: 15.762683868408203, tag: [ 4 16 22 24 27 31], pred: [ 2  6 11 17 28 33]\u001b[0m\n",
      "\u001b[32m2023-06-26 15:08:42.200\u001b[0m | \u001b[1mINFO    \u001b[0m | \u001b[36m__main__\u001b[0m:\u001b[36mtrain_with_eval_red_ball_model\u001b[0m:\u001b[36m119\u001b[0m - \u001b[1mepoch: 0, loss: 14.552597045898438, tag: [ 9 10 12 16 18 32], pred: [ 4  5 11 17 26 31]\u001b[0m\n",
      "\u001b[32m2023-06-26 15:08:42.558\u001b[0m | \u001b[1mINFO    \u001b[0m | \u001b[36m__main__\u001b[0m:\u001b[36mtrain_with_eval_red_ball_model\u001b[0m:\u001b[36m119\u001b[0m - \u001b[1mepoch: 0, loss: 15.156061172485352, tag: [ 7  9 10 13 19 33], pred: [ 2  6 11 17 26 31]\u001b[0m\n",
      "\u001b[32m2023-06-26 15:08:42.911\u001b[0m | \u001b[1mINFO    \u001b[0m | \u001b[36m__main__\u001b[0m:\u001b[36mtrain_with_eval_red_ball_model\u001b[0m:\u001b[36m119\u001b[0m - \u001b[1mepoch: 0, loss: 15.349832534790039, tag: [ 3 16 19 21 24 26], pred: [ 1  8 18 23 27 32]\u001b[0m\n",
      "\u001b[32m2023-06-26 15:08:43.258\u001b[0m | \u001b[1mINFO    \u001b[0m | \u001b[36m__main__\u001b[0m:\u001b[36mtrain_with_eval_red_ball_model\u001b[0m:\u001b[36m119\u001b[0m - \u001b[1mepoch: 0, loss: 14.325663566589355, tag: [ 3  8 11 14 25 29], pred: [ 1  6 13 15 29 33]\u001b[0m\n",
      "\u001b[32m2023-06-26 15:08:43.280\u001b[0m | \u001b[1mINFO    \u001b[0m | \u001b[36m__main__\u001b[0m:\u001b[36mtrain_with_eval_red_ball_model\u001b[0m:\u001b[36m122\u001b[0m - \u001b[1m训练耗时: 14.568886280059814\u001b[0m\n"
     ]
    },
    {
     "name": "stdout",
     "output_type": "stream",
     "text": [
      "WARNING:tensorflow:Issue encountered when serializing trainable_variables.\n",
      "Type is unsupported, or the types of the items don't match field type in CollectionDef. Note this is a warning and probably safe to ignore.\n",
      "an integer is required (got type str)\n",
      "WARNING:tensorflow:Issue encountered when serializing variables.\n",
      "Type is unsupported, or the types of the items don't match field type in CollectionDef. Note this is a warning and probably safe to ignore.\n",
      "an integer is required (got type str)\n"
     ]
    },
    {
     "name": "stderr",
     "output_type": "stream",
     "text": [
      "\u001b[32m2023-06-26 15:08:43.847\u001b[0m | \u001b[1mINFO    \u001b[0m | \u001b[36m__main__\u001b[0m:\u001b[36mtrain_with_eval_red_ball_model\u001b[0m:\u001b[36m128\u001b[0m - \u001b[1m模型评估【双色球】...\u001b[0m\n",
      "\u001b[32m2023-06-26 15:08:45.317\u001b[0m | \u001b[1mINFO    \u001b[0m | \u001b[36m__main__\u001b[0m:\u001b[36mtrain_with_eval_red_ball_model\u001b[0m:\u001b[36m144\u001b[0m - \u001b[1m测试期数: 901\u001b[0m\n",
      "\u001b[32m2023-06-26 15:08:45.318\u001b[0m | \u001b[1mINFO    \u001b[0m | \u001b[36m__main__\u001b[0m:\u001b[36mtrain_with_eval_red_ball_model\u001b[0m:\u001b[36m146\u001b[0m - \u001b[1m命中0个球，557期，占比: 61.82%\u001b[0m\n",
      "\u001b[32m2023-06-26 15:08:45.318\u001b[0m | \u001b[1mINFO    \u001b[0m | \u001b[36m__main__\u001b[0m:\u001b[36mtrain_with_eval_red_ball_model\u001b[0m:\u001b[36m146\u001b[0m - \u001b[1m命中2个球，61期，占比: 6.77%\u001b[0m\n",
      "\u001b[32m2023-06-26 15:08:45.318\u001b[0m | \u001b[1mINFO    \u001b[0m | \u001b[36m__main__\u001b[0m:\u001b[36mtrain_with_eval_red_ball_model\u001b[0m:\u001b[36m146\u001b[0m - \u001b[1m命中1个球，277期，占比: 30.74%\u001b[0m\n",
      "\u001b[32m2023-06-26 15:08:45.319\u001b[0m | \u001b[1mINFO    \u001b[0m | \u001b[36m__main__\u001b[0m:\u001b[36mtrain_with_eval_red_ball_model\u001b[0m:\u001b[36m146\u001b[0m - \u001b[1m命中3个球，6期，占比: 0.67%\u001b[0m\n",
      "\u001b[32m2023-06-26 15:08:45.319\u001b[0m | \u001b[1mINFO    \u001b[0m | \u001b[36m__main__\u001b[0m:\u001b[36mtrain_with_eval_red_ball_model\u001b[0m:\u001b[36m147\u001b[0m - \u001b[1m整体准确率: 7.71%\u001b[0m\n",
      "\u001b[32m2023-06-26 15:08:45.371\u001b[0m | \u001b[1mINFO    \u001b[0m | \u001b[36m__main__\u001b[0m:\u001b[36mrun\u001b[0m:\u001b[36m299\u001b[0m - \u001b[1m开始训练【双色球】蓝球模型...\u001b[0m\n",
      "\u001b[32m2023-06-26 15:08:45.372\u001b[0m | \u001b[1mINFO    \u001b[0m | \u001b[36m__main__\u001b[0m:\u001b[36mtrain_with_eval_blue_ball_model\u001b[0m:\u001b[36m164\u001b[0m - \u001b[1m训练特征数据维度: (2107, 3)\u001b[0m\n",
      "\u001b[32m2023-06-26 15:08:45.373\u001b[0m | \u001b[1mINFO    \u001b[0m | \u001b[36m__main__\u001b[0m:\u001b[36mtrain_with_eval_blue_ball_model\u001b[0m:\u001b[36m165\u001b[0m - \u001b[1m训练标签数据维度: (2107, 16)\u001b[0m\n",
      "\u001b[32m2023-06-26 15:08:45.373\u001b[0m | \u001b[1mINFO    \u001b[0m | \u001b[36m__main__\u001b[0m:\u001b[36mtrain_with_eval_blue_ball_model\u001b[0m:\u001b[36m174\u001b[0m - \u001b[1m训练特征数据维度: (901, 3)\u001b[0m\n",
      "\u001b[32m2023-06-26 15:08:45.374\u001b[0m | \u001b[1mINFO    \u001b[0m | \u001b[36m__main__\u001b[0m:\u001b[36mtrain_with_eval_blue_ball_model\u001b[0m:\u001b[36m175\u001b[0m - \u001b[1m训练标签数据维度: (901, 16)\u001b[0m\n",
      "\u001b[32m2023-06-26 15:08:46.819\u001b[0m | \u001b[1mINFO    \u001b[0m | \u001b[36m__main__\u001b[0m:\u001b[36mtrain_with_eval_blue_ball_model\u001b[0m:\u001b[36m221\u001b[0m - \u001b[1mepoch: 0, loss: 2.7734997272491455, tag: 9, pred: 4\u001b[0m\n",
      "\u001b[32m2023-06-26 15:08:46.986\u001b[0m | \u001b[1mINFO    \u001b[0m | \u001b[36m__main__\u001b[0m:\u001b[36mtrain_with_eval_blue_ball_model\u001b[0m:\u001b[36m221\u001b[0m - \u001b[1mepoch: 0, loss: 2.741185426712036, tag: 5, pred: 6\u001b[0m\n",
      "\u001b[32m2023-06-26 15:08:47.178\u001b[0m | \u001b[1mINFO    \u001b[0m | \u001b[36m__main__\u001b[0m:\u001b[36mtrain_with_eval_blue_ball_model\u001b[0m:\u001b[36m221\u001b[0m - \u001b[1mepoch: 0, loss: 2.681743860244751, tag: 6, pred: 6\u001b[0m\n",
      "\u001b[32m2023-06-26 15:08:47.371\u001b[0m | \u001b[1mINFO    \u001b[0m | \u001b[36m__main__\u001b[0m:\u001b[36mtrain_with_eval_blue_ball_model\u001b[0m:\u001b[36m221\u001b[0m - \u001b[1mepoch: 0, loss: 2.6753170490264893, tag: 15, pred: 1\u001b[0m\n",
      "\u001b[32m2023-06-26 15:08:47.568\u001b[0m | \u001b[1mINFO    \u001b[0m | \u001b[36m__main__\u001b[0m:\u001b[36mtrain_with_eval_blue_ball_model\u001b[0m:\u001b[36m221\u001b[0m - \u001b[1mepoch: 0, loss: 2.867851972579956, tag: 10, pred: 1\u001b[0m\n",
      "\u001b[32m2023-06-26 15:08:47.761\u001b[0m | \u001b[1mINFO    \u001b[0m | \u001b[36m__main__\u001b[0m:\u001b[36mtrain_with_eval_blue_ball_model\u001b[0m:\u001b[36m221\u001b[0m - \u001b[1mepoch: 0, loss: 2.854346752166748, tag: 9, pred: 1\u001b[0m\n",
      "\u001b[32m2023-06-26 15:08:47.982\u001b[0m | \u001b[1mINFO    \u001b[0m | \u001b[36m__main__\u001b[0m:\u001b[36mtrain_with_eval_blue_ball_model\u001b[0m:\u001b[36m221\u001b[0m - \u001b[1mepoch: 0, loss: 2.775891065597534, tag: 16, pred: 1\u001b[0m\n",
      "\u001b[32m2023-06-26 15:08:48.175\u001b[0m | \u001b[1mINFO    \u001b[0m | \u001b[36m__main__\u001b[0m:\u001b[36mtrain_with_eval_blue_ball_model\u001b[0m:\u001b[36m221\u001b[0m - \u001b[1mepoch: 0, loss: 2.7638516426086426, tag: 2, pred: 1\u001b[0m\n",
      "\u001b[32m2023-06-26 15:08:48.371\u001b[0m | \u001b[1mINFO    \u001b[0m | \u001b[36m__main__\u001b[0m:\u001b[36mtrain_with_eval_blue_ball_model\u001b[0m:\u001b[36m221\u001b[0m - \u001b[1mepoch: 0, loss: 2.7594597339630127, tag: 3, pred: 1\u001b[0m\n",
      "\u001b[32m2023-06-26 15:08:48.562\u001b[0m | \u001b[1mINFO    \u001b[0m | \u001b[36m__main__\u001b[0m:\u001b[36mtrain_with_eval_blue_ball_model\u001b[0m:\u001b[36m221\u001b[0m - \u001b[1mepoch: 0, loss: 2.7745652198791504, tag: 15, pred: 16\u001b[0m\n",
      "\u001b[32m2023-06-26 15:08:48.756\u001b[0m | \u001b[1mINFO    \u001b[0m | \u001b[36m__main__\u001b[0m:\u001b[36mtrain_with_eval_blue_ball_model\u001b[0m:\u001b[36m221\u001b[0m - \u001b[1mepoch: 0, loss: 2.7728793621063232, tag: 2, pred: 7\u001b[0m\n",
      "\u001b[32m2023-06-26 15:08:48.952\u001b[0m | \u001b[1mINFO    \u001b[0m | \u001b[36m__main__\u001b[0m:\u001b[36mtrain_with_eval_blue_ball_model\u001b[0m:\u001b[36m221\u001b[0m - \u001b[1mepoch: 0, loss: 2.810375452041626, tag: 5, pred: 7\u001b[0m\n",
      "\u001b[32m2023-06-26 15:08:49.148\u001b[0m | \u001b[1mINFO    \u001b[0m | \u001b[36m__main__\u001b[0m:\u001b[36mtrain_with_eval_blue_ball_model\u001b[0m:\u001b[36m221\u001b[0m - \u001b[1mepoch: 0, loss: 2.857759714126587, tag: 8, pred: 12\u001b[0m\n",
      "\u001b[32m2023-06-26 15:08:49.341\u001b[0m | \u001b[1mINFO    \u001b[0m | \u001b[36m__main__\u001b[0m:\u001b[36mtrain_with_eval_blue_ball_model\u001b[0m:\u001b[36m221\u001b[0m - \u001b[1mepoch: 0, loss: 2.843090295791626, tag: 5, pred: 12\u001b[0m\n",
      "\u001b[32m2023-06-26 15:08:49.533\u001b[0m | \u001b[1mINFO    \u001b[0m | \u001b[36m__main__\u001b[0m:\u001b[36mtrain_with_eval_blue_ball_model\u001b[0m:\u001b[36m221\u001b[0m - \u001b[1mepoch: 0, loss: 2.806959867477417, tag: 10, pred: 7\u001b[0m\n",
      "\u001b[32m2023-06-26 15:08:49.726\u001b[0m | \u001b[1mINFO    \u001b[0m | \u001b[36m__main__\u001b[0m:\u001b[36mtrain_with_eval_blue_ball_model\u001b[0m:\u001b[36m221\u001b[0m - \u001b[1mepoch: 0, loss: 2.8711838722229004, tag: 3, pred: 7\u001b[0m\n",
      "\u001b[32m2023-06-26 15:08:49.915\u001b[0m | \u001b[1mINFO    \u001b[0m | \u001b[36m__main__\u001b[0m:\u001b[36mtrain_with_eval_blue_ball_model\u001b[0m:\u001b[36m221\u001b[0m - \u001b[1mepoch: 0, loss: 2.685749053955078, tag: 12, pred: 7\u001b[0m\n",
      "\u001b[32m2023-06-26 15:08:50.105\u001b[0m | \u001b[1mINFO    \u001b[0m | \u001b[36m__main__\u001b[0m:\u001b[36mtrain_with_eval_blue_ball_model\u001b[0m:\u001b[36m221\u001b[0m - \u001b[1mepoch: 0, loss: 2.812612533569336, tag: 3, pred: 9\u001b[0m\n",
      "\u001b[32m2023-06-26 15:08:50.298\u001b[0m | \u001b[1mINFO    \u001b[0m | \u001b[36m__main__\u001b[0m:\u001b[36mtrain_with_eval_blue_ball_model\u001b[0m:\u001b[36m221\u001b[0m - \u001b[1mepoch: 0, loss: 2.766409158706665, tag: 15, pred: 16\u001b[0m\n",
      "\u001b[32m2023-06-26 15:08:50.490\u001b[0m | \u001b[1mINFO    \u001b[0m | \u001b[36m__main__\u001b[0m:\u001b[36mtrain_with_eval_blue_ball_model\u001b[0m:\u001b[36m221\u001b[0m - \u001b[1mepoch: 0, loss: 2.7518515586853027, tag: 6, pred: 12\u001b[0m\n",
      "\u001b[32m2023-06-26 15:08:50.682\u001b[0m | \u001b[1mINFO    \u001b[0m | \u001b[36m__main__\u001b[0m:\u001b[36mtrain_with_eval_blue_ball_model\u001b[0m:\u001b[36m221\u001b[0m - \u001b[1mepoch: 0, loss: 2.735576868057251, tag: 6, pred: 12\u001b[0m\n",
      "\u001b[32m2023-06-26 15:08:50.878\u001b[0m | \u001b[1mINFO    \u001b[0m | \u001b[36m__main__\u001b[0m:\u001b[36mtrain_with_eval_blue_ball_model\u001b[0m:\u001b[36m221\u001b[0m - \u001b[1mepoch: 0, loss: 2.8163657188415527, tag: 4, pred: 12\u001b[0m\n",
      "\u001b[32m2023-06-26 15:08:50.890\u001b[0m | \u001b[1mINFO    \u001b[0m | \u001b[36m__main__\u001b[0m:\u001b[36mtrain_with_eval_blue_ball_model\u001b[0m:\u001b[36m236\u001b[0m - \u001b[1m训练耗时: 5.515990734100342\u001b[0m\n",
      "\u001b[32m2023-06-26 15:08:51.124\u001b[0m | \u001b[1mINFO    \u001b[0m | \u001b[36m__main__\u001b[0m:\u001b[36mtrain_with_eval_blue_ball_model\u001b[0m:\u001b[36m242\u001b[0m - \u001b[1m模型评估【双色球】...\u001b[0m\n",
      "\u001b[32m2023-06-26 15:08:51.767\u001b[0m | \u001b[1mINFO    \u001b[0m | \u001b[36m__main__\u001b[0m:\u001b[36mtrain_with_eval_blue_ball_model\u001b[0m:\u001b[36m263\u001b[0m - \u001b[1m测试期数: 901\u001b[0m\n",
      "\u001b[32m2023-06-26 15:08:51.768\u001b[0m | \u001b[1mINFO    \u001b[0m | \u001b[36m__main__\u001b[0m:\u001b[36mtrain_with_eval_blue_ball_model\u001b[0m:\u001b[36m265\u001b[0m - \u001b[1m命中0个球，901期，占比: 100.0%\u001b[0m\n",
      "\u001b[32m2023-06-26 15:08:51.768\u001b[0m | \u001b[1mINFO    \u001b[0m | \u001b[36m__main__\u001b[0m:\u001b[36mtrain_with_eval_blue_ball_model\u001b[0m:\u001b[36m267\u001b[0m - \u001b[1m整体准确率: 0.0%\u001b[0m\n"
     ]
    }
   ],
   "source": [
    "%run run_train_model.py --name ssq"
   ]
  },
  {
   "cell_type": "code",
   "execution_count": 13,
   "metadata": {},
   "outputs": [
    {
     "name": "stdout",
     "output_type": "stream",
     "text": [
      "INFO:tensorflow:Restoring parameters from c:\\Users\\vickenlee\\Documents\\GitHub\\predict_Lottery_ticket/model//ssq/red_ball_model/red_ball_model.ckpt\n"
     ]
    },
    {
     "name": "stderr",
     "output_type": "stream",
     "text": [
      "\u001b[32m2023-06-26 15:09:24.853\u001b[0m | \u001b[1mINFO    \u001b[0m | \u001b[36m__main__\u001b[0m:\u001b[36mload_model\u001b[0m:\u001b[36m33\u001b[0m - \u001b[1m已加载红球模型！\u001b[0m\n"
     ]
    },
    {
     "name": "stdout",
     "output_type": "stream",
     "text": [
      "INFO:tensorflow:Restoring parameters from c:\\Users\\vickenlee\\Documents\\GitHub\\predict_Lottery_ticket/model//ssq/blue_ball_model/blue_ball_model.ckpt\n"
     ]
    },
    {
     "name": "stderr",
     "output_type": "stream",
     "text": [
      "\u001b[32m2023-06-26 15:09:25.157\u001b[0m | \u001b[1mINFO    \u001b[0m | \u001b[36m__main__\u001b[0m:\u001b[36mload_model\u001b[0m:\u001b[36m42\u001b[0m - \u001b[1m已加载蓝球模型！\u001b[0m\n",
      "c:\\Users\\vickenlee\\AppData\\Local\\Programs\\Python\\Python39\\lib\\site-packages\\urllib3\\connectionpool.py:1056: InsecureRequestWarning: Unverified HTTPS request is being made to host '127.0.0.1'. Adding certificate verification is strongly advised. See: https://urllib3.readthedocs.io/en/1.26.x/advanced-usage.html#ssl-warnings\n",
      "  warnings.warn(\n",
      "\u001b[32m2023-06-26 15:09:25.414\u001b[0m | \u001b[1mINFO    \u001b[0m | \u001b[36m__main__\u001b[0m:\u001b[36mload_model\u001b[0m:\u001b[36m49\u001b[0m - \u001b[1m【双色球】最近一期:23072\u001b[0m\n",
      "c:\\Users\\vickenlee\\AppData\\Local\\Programs\\Python\\Python39\\lib\\site-packages\\urllib3\\connectionpool.py:1056: InsecureRequestWarning: Unverified HTTPS request is being made to host '127.0.0.1'. Adding certificate verification is strongly advised. See: https://urllib3.readthedocs.io/en/1.26.x/advanced-usage.html#ssl-warnings\n",
      "  warnings.warn(\n",
      "\u001b[32m2023-06-26 15:09:27.267\u001b[0m | \u001b[1mINFO    \u001b[0m | \u001b[36m__main__\u001b[0m:\u001b[36mrun\u001b[0m:\u001b[36m182\u001b[0m - \u001b[1m【双色球】预测期号：23073\u001b[0m\n",
      "\u001b[32m2023-06-26 15:09:27.655\u001b[0m | \u001b[1mINFO    \u001b[0m | \u001b[36m__main__\u001b[0m:\u001b[36mrun\u001b[0m:\u001b[36m184\u001b[0m - \u001b[1m预测结果：{'红球_1': 1, '红球_2': 6, '红球_3': 13, '红球_4': 15, '红球_5': 29, '红球_6': 33, '蓝球': 12}\u001b[0m\n"
     ]
    }
   ],
   "source": [
    "%run run_predict.py  --name ssq"
   ]
  }
 ],
 "metadata": {
  "kernelspec": {
   "display_name": "Python 3",
   "language": "python",
   "name": "python3"
  },
  "language_info": {
   "codemirror_mode": {
    "name": "ipython",
    "version": 3
   },
   "file_extension": ".py",
   "mimetype": "text/x-python",
   "name": "python",
   "nbconvert_exporter": "python",
   "pygments_lexer": "ipython3",
   "version": "3.9.13"
  },
  "orig_nbformat": 4
 },
 "nbformat": 4,
 "nbformat_minor": 2
}
